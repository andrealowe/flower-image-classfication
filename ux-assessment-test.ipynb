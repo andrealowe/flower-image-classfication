{
 "cells": [
  {
   "cell_type": "code",
   "execution_count": null,
   "id": "72e064c7-5b14-463c-9e2c-9f165f89d6e5",
   "metadata": {},
   "outputs": [],
   "source": [
    "import pandas as pd\n",
    "import matplotlib.pyplot as plt\n",
    "import numpy as np\n",
    "import math \n",
    "\n",
    "from sklearn.model_selection import train_test_split\n",
    "from sklearn.linear_model import LinearRegression\n",
    "from sklearn.tree import DecisionTreeRegressor\n",
    "\n",
    "from sklearn.metrics import mean_squared_error, r2_score, mean_absolute_error\n",
    "\n",
    "from scipy import stats\n",
    "from scipy.stats import kurtosis, skew"
   ]
  },
  {
   "cell_type": "code",
   "execution_count": null,
   "id": "975bef50-55b1-45ad-a4d0-1e0269b861dd",
   "metadata": {},
   "outputs": [],
   "source": [
    "#add your data!\n",
    "\n",
    "\n"
   ]
  },
  {
   "cell_type": "code",
   "execution_count": null,
   "id": "db52a2cd",
   "metadata": {},
   "outputs": [],
   "source": [
    "df = pd.read_csv('ux-study-data.csv')\n",
    "df.head()"
   ]
  },
  {
   "cell_type": "code",
   "execution_count": null,
   "id": "989f373c-a9e3-4f48-bdee-8a137112a9ef",
   "metadata": {},
   "outputs": [],
   "source": [
    "# check for missing values\n",
    "display(df.isna().any())"
   ]
  },
  {
   "cell_type": "code",
   "execution_count": null,
   "id": "aba18d99",
   "metadata": {},
   "outputs": [],
   "source": [
    "#convert to numberical\n",
    "df[df.columns[1:]] = df[df.columns[1:]].replace('[\\$,]', '', regex=True).astype(float)"
   ]
  },
  {
   "cell_type": "code",
   "execution_count": null,
   "id": "5bb1f4fc",
   "metadata": {},
   "outputs": [],
   "source": [
    "df.head()"
   ]
  },
  {
   "cell_type": "code",
   "execution_count": null,
   "id": "036c4f70-6b44-444a-bd55-84ee96030428",
   "metadata": {},
   "outputs": [],
   "source": [
    "# define the x & y data.\n",
    "x = df['EXXON_PRICE']\n",
    "y = df['OIL_PRICE']\n",
    "\n",
    "# create the scatter plot.\n",
    "plt.plot(x, y, 'o', color ='teal', label = 'Daily Price')\n",
    "\n",
    "# make sure it's formatted.\n",
    "plt.title(\"Exxon Vs. Oil\")\n",
    "plt.xlabel(\"Exxon Mobil\")\n",
    "plt.ylabel(\"Oil\")\n",
    "plt.legend()\n",
    "\n",
    "\n",
    "\n",
    "plt.show()"
   ]
  },
  {
   "cell_type": "code",
   "execution_count": null,
   "id": "64499358-58b7-4bf6-811d-f58174b384f1",
   "metadata": {},
   "outputs": [],
   "source": [
    "# let's measure that correlation\n",
    "df.corr()"
   ]
  },
  {
   "cell_type": "code",
   "execution_count": null,
   "id": "f2c097e9-87d1-4b41-b078-b6a4d87f1abd",
   "metadata": {},
   "outputs": [],
   "source": [
    "# let's take a look at a statistical summary.\n",
    "df.describe()"
   ]
  },
  {
   "cell_type": "code",
   "execution_count": null,
   "id": "a8c6c7e9-fc36-45a5-9563-3f104656afed",
   "metadata": {},
   "outputs": [],
   "source": [
    "df.hist(grid = False, color = 'lightcoral');"
   ]
  },
  {
   "cell_type": "markdown",
   "id": "50333ef5-4d0b-466e-bd4e-43d69cec56ec",
   "metadata": {},
   "source": [
    "## Model Training"
   ]
  },
  {
   "cell_type": "code",
   "execution_count": null,
   "id": "a8ca42a2-89c3-4d19-983e-466c030735eb",
   "metadata": {},
   "outputs": [],
   "source": [
    "# define our input variable (X) & output variable.\n",
    "Y = df[['EXXON_PRICE']]\n",
    "X = df[['OIL_PRICE']]\n",
    "\n",
    "# Split X and y into X_\n",
    "X_train, X_test, y_train, y_test = train_test_split(X, Y, test_size=0.30, random_state=1)"
   ]
  },
  {
   "cell_type": "code",
   "execution_count": null,
   "id": "b438785b-b4b4-4f07-8b74-6a781ee18bc8",
   "metadata": {},
   "outputs": [],
   "source": [
    "# create a Linear Regression model object.\n",
    "regression_model = DecisionTreeRegressor()\n",
    "\n",
    "# pass through the X_train & y_train data set.\n",
    "regression_model.fit(X_train.values, y_train.values)"
   ]
  },
  {
   "cell_type": "code",
   "execution_count": null,
   "id": "eb203ee9",
   "metadata": {},
   "outputs": [],
   "source": [
    "# let's test a prediction\n",
    "prediction = regression_model.predict([[67.33]])\n",
    "predicted_value = prediction[0]\n",
    "print(\"The predicted value of Exxon stock price is ${:.4}\".format(predicted_value))"
   ]
  },
  {
   "cell_type": "code",
   "execution_count": null,
   "id": "87e19307",
   "metadata": {},
   "outputs": [],
   "source": [
    "#check accuracy\n",
    "regression_model.score(X_train,y_train)"
   ]
  },
  {
   "cell_type": "code",
   "execution_count": null,
   "id": "1c902946-5789-4d80-8407-45c8a8c701e0",
   "metadata": {},
   "outputs": [],
   "source": [
    "import pickle\n",
    "\n",
    "#choose path for exported serialized model\n",
    "my_file_location = 'my_regression_model.pkl'\n",
    "\n",
    "# pickle the model\n",
    "with open(my_file_location ,'wb') as f:\n",
    "     pickle.dump(regression_model,f)"
   ]
  }
 ],
 "metadata": {
  "environment": {
   "kernel": "python3",
   "name": "tf2-gpu.2-8.m92",
   "type": "gcloud",
   "uri": "gcr.io/deeplearning-platform-release/tf2-gpu.2-8:m92"
  },
  "kernelspec": {
   "display_name": "Python 3",
   "language": "python",
   "name": "python3"
  },
  "language_info": {
   "codemirror_mode": {
    "name": "ipython",
    "version": 3
   },
   "file_extension": ".py",
   "mimetype": "text/x-python",
   "name": "python",
   "nbconvert_exporter": "python",
   "pygments_lexer": "ipython3",
   "version": "3.8.10"
  }
 },
 "nbformat": 4,
 "nbformat_minor": 5
}
